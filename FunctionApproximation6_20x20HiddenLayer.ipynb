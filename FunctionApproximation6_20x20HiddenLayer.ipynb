{
  "nbformat": 4,
  "nbformat_minor": 0,
  "metadata": {
    "colab": {
      "provenance": [],
      "authorship_tag": "ABX9TyP90bRy5njU09d9NQ4KR5H2",
      "include_colab_link": true
    },
    "kernelspec": {
      "name": "python3",
      "display_name": "Python 3"
    },
    "language_info": {
      "name": "python"
    }
  },
  "cells": [
    {
      "cell_type": "markdown",
      "metadata": {
        "id": "view-in-github",
        "colab_type": "text"
      },
      "source": [
        "<a href=\"https://colab.research.google.com/github/kaddef/Function-Approximation/blob/main/FunctionApproximation6_20x20HiddenLayer.ipynb\" target=\"_parent\"><img src=\"https://colab.research.google.com/assets/colab-badge.svg\" alt=\"Open In Colab\"/></a>"
      ]
    },
    {
      "cell_type": "code",
      "execution_count": 723,
      "metadata": {
        "id": "J_S8ljFVk2QC"
      },
      "outputs": [],
      "source": [
        "import numpy as np\n",
        "import pandas as pd\n",
        "from matplotlib import pyplot as plt\n",
        "from sklearn.model_selection import train_test_split"
      ]
    },
    {
      "cell_type": "code",
      "source": [
        "def y(x):\n",
        "    #return (np.sin(2*np.pi*x) + np.sin(5*np.pi*x))\n",
        "    return (np.power(x,2))"
      ],
      "metadata": {
        "id": "JOrwJKYUllew"
      },
      "execution_count": 724,
      "outputs": []
    },
    {
      "cell_type": "code",
      "source": [
        "x_vals = np.arange(-1,1,0.0002)\n",
        "y_vals = y(x_vals)\n",
        "print(x_vals.shape)\n",
        "print(y_vals.shape)"
      ],
      "metadata": {
        "id": "igAMh8dGlm2D",
        "colab": {
          "base_uri": "https://localhost:8080/"
        },
        "outputId": "f4e416b7-6e92-4a99-f3b5-c984a2436596"
      },
      "execution_count": 725,
      "outputs": [
        {
          "output_type": "stream",
          "name": "stdout",
          "text": [
            "(10000,)\n",
            "(10000,)\n"
          ]
        }
      ]
    },
    {
      "cell_type": "code",
      "source": [
        "x_train, x_test, y_train, y_test = train_test_split(x_vals, y_vals, test_size=0.20)\n",
        "x_train = np.array(x_train)\n",
        "y_train = np.array(y_train)\n",
        "\n",
        "xtrainplot = np.array(x_train)\n",
        "xtestplot = x_test"
      ],
      "metadata": {
        "id": "ObK0nbaWqcp3"
      },
      "execution_count": 726,
      "outputs": []
    },
    {
      "cell_type": "code",
      "source": [
        "plt.figure(1)\n",
        "plt.plot(x_train, y_train, 'o')\n",
        "plt.plot(x_test, y_test, 'x')\n",
        "plt.show()"
      ],
      "metadata": {
        "id": "2BI_h9ARqmWU",
        "colab": {
          "base_uri": "https://localhost:8080/",
          "height": 265
        },
        "outputId": "708c9ca7-34ba-45a0-d8eb-87d7ff6ad471"
      },
      "execution_count": 727,
      "outputs": [
        {
          "output_type": "display_data",
          "data": {
            "text/plain": [
              "<Figure size 432x288 with 1 Axes>"
            ],
            "image/png": "[encoded data removed]"
          },
          "metadata": {
            "needs_background": "light"
          }
        }
      ]
    },
    {
      "cell_type": "code",
      "source": [
        "x_train = x_train.reshape(1,-1)\n",
        "x_test = x_test.reshape(1,-1)"
      ],
      "metadata": {
        "id": "oU1AyVsSsD_Y"
      },
      "execution_count": 728,
      "outputs": []
    },
    {
      "cell_type": "code",
      "source": [
        "def init_params():\n",
        "    W1 = np.random.rand(20, 1) - 0.5\n",
        "    b1 = np.random.rand(20, 1) - 0.5\n",
        "    W2 = np.random.rand(20, 20) - 0.5\n",
        "    b2 = np.random.rand(20, 1) - 0.5\n",
        "    W3 = np.random.rand(20, 1) - 0.5\n",
        "    b3 = np.random.rand(1, 1) - 0.5\n",
        "    return W1, b1, W2, b2, W3, b3"
      ],
      "metadata": {
        "id": "yBSS8VLpmls9"
      },
      "execution_count": 729,
      "outputs": []
    },
    {
      "cell_type": "code",
      "source": [
        "def sigmoid(x):\n",
        "    return 1/(1 + np.exp(-x))\n",
        "\n",
        "def sigmoid_deriv(x):\n",
        "    return sigmoid(x) * (1-sigmoid(x))\n",
        "\n",
        "def ReLU(Z):\n",
        "    return np.maximum(Z, 0)\n",
        "    \n",
        "def ReLU_deriv(Z):\n",
        "    return Z > 0"
      ],
      "metadata": {
        "id": "drO449femsIX"
      },
      "execution_count": 730,
      "outputs": []
    },
    {
      "cell_type": "code",
      "source": [
        "def forward_prop(W1, b1, W2, b2, W3, b3, X):\n",
        "    Z1 = W1.dot(X) + b1\n",
        "    A1 = ReLU(Z1)\n",
        "\n",
        "    Z2 = W2.dot(A1) + b2\n",
        "    A2 = ReLU(Z2)\n",
        "\n",
        "    Z3 = W3.T.dot(A2) + b3\n",
        "    A3 = Z3\n",
        "    return Z1, A1, Z2, A2, Z3, A3"
      ],
      "metadata": {
        "id": "s0Lkcklxou2g"
      },
      "execution_count": 731,
      "outputs": []
    },
    {
      "cell_type": "code",
      "source": [
        "def backward_prop(Z1, A1, Z2, A2, Z3, A3, W1, W2, W3, X, Y):\n",
        "    dZ3 = 2 * (A3 - Y)\n",
        "    dW3 = dZ3.dot(A2.T)\n",
        "    db3 = np.sum(dZ3)\n",
        "\n",
        "    dZ2 = W3.dot(dZ3) * ReLU_deriv(Z2)\n",
        "    dW2 = dZ2.dot(A1.T)\n",
        "    db2 = np.sum(dZ2)\n",
        "\n",
        "    dZ1 = W2.dot(dZ2) * ReLU_deriv(Z1)\n",
        "    dW1 = dZ1.dot(X.T)\n",
        "    db1 = np.sum(dZ1)\n",
        "    return dW1, db1, dW2, db2, dW3, db3"
      ],
      "metadata": {
        "id": "qQT1ZqB1uzV9"
      },
      "execution_count": 732,
      "outputs": []
    },
    {
      "cell_type": "code",
      "source": [
        "def update_params(W1, b1, W2, b2, W3, b3, dW1, db1, dW2, db2, dW3, db3, alpha):\n",
        "    W1 = W1 - alpha * dW1\n",
        "    b1 = b1 - alpha * db1 \n",
        "\n",
        "    W2 = W2 - alpha * dW2  \n",
        "    b2 = b2 - alpha * db2 \n",
        "\n",
        "    W3 = W3 - alpha * dW3.T\n",
        "    b3 = b3 - alpha * db3  \n",
        "\n",
        "    return W1, b1, W2, b2, W3, b3"
      ],
      "metadata": {
        "id": "shrzXwKI1Zlz"
      },
      "execution_count": 733,
      "outputs": []
    },
    {
      "cell_type": "code",
      "source": [
        "def gradient_descent(X, Y, alpha, iterations):\n",
        "    W1, b1, W2, b2, W3, b3 = init_params()\n",
        "\n",
        "    for i in range(iterations):\n",
        "        Z1, A1, Z2, A2, A3, Z3 = forward_prop(W1, b1, W2, b2, W3, b3, X[0][i])\n",
        "        dW1, db1, dW2, db2, dW3, db3 = backward_prop(Z1, A1, Z2, A2, Z3, A3, W1, W2, W3, X[0][i], Y[i])\n",
        "        W1, b1, W2, b2, W3, b3 = update_params(W1, b1, W2, b2, W3, b3, dW1, db1, dW2, db2, dW3, db3, alpha)\n",
        "        if i % 100 == 0:\n",
        "            #print(\"Iteration: \", i)\n",
        "            #print(\"X Value: \", X[0][i],type(X[0][i]))\n",
        "            #print(\"Y Value: \", Y[i],type(Y[i]))\n",
        "            #print(\"Predicted Y Value: \", A3,type(A3))\n",
        "            #predictions = get_predictions(A3)\n",
        "            #print(\"Accuracy\", A3-Y[i],type(A3-Y[i]))\n",
        "            #print(\"=============================================================\")\n",
        "            plt.plot(X[0][i], A3, 'ro', zorder=3)\n",
        "    return W1, b1, W2, b2, W3, b3"
      ],
      "metadata": {
        "id": "Li3MQmqK1fuQ"
      },
      "execution_count": 734,
      "outputs": []
    },
    {
      "cell_type": "code",
      "source": [
        "W1, b1, W2, b2, W3, b3 = gradient_descent(x_train, y_train, 0.05, 8000)\n",
        "plt.plot(xtrainplot, y_train, 'o')\n",
        "plt.plot(xtestplot, y_test, 'x')\n",
        "plt.show()"
      ],
      "metadata": {
        "id": "bKOBfzMP1ji2",
        "colab": {
          "base_uri": "https://localhost:8080/",
          "height": 265
        },
        "outputId": "1dbb4124-3ba4-455e-9f7a-88faf2a102bd"
      },
      "execution_count": 735,
      "outputs": [
        {
          "output_type": "display_data",
          "data": {
            "text/plain": [
              "<Figure size 432x288 with 1 Axes>"
            ],
            "image/png": "[encoded data removed]"
          },
          "metadata": {
            "needs_background": "light"
          }
        }
      ]
    },
    {
      "cell_type": "code",
      "source": [
        "def make_predictions(X, W1, b1, W2, b2, W3, b3):\n",
        "    Z1, A1, Z2, A2, Z3,A3 = forward_prop(W1, b1, W2, b2, W3, b3, X)\n",
        "    predictions = A3\n",
        "    return predictions\n",
        "\n",
        "def test_prediction(index, W1, b1, W2, b2, W3, b3):\n",
        "    current_x = x_test[0][index]\n",
        "    \n",
        "    prediction = make_predictions(x_test[0][index], W1, b1, W2, b2, W3, b3)\n",
        "    label = y_test[index]\n",
        "    #print(\"X Value: \", x_test[0][index])\n",
        "    #print(\"Label: \", label)\n",
        "    #print(\"Prediction: \", prediction)\n",
        "    plt.plot(x_test[0][index], prediction, 'go', zorder=3)\n",
        "    #print(\"========================\")"
      ],
      "metadata": {
        "id": "UuLbpWMxRkds"
      },
      "execution_count": 736,
      "outputs": []
    },
    {
      "cell_type": "code",
      "source": [
        "for i in range(x_test.size):\n",
        "  test_prediction(i, W1, b1, W2, b2, W3, b3)\n",
        "\n",
        "plt.plot(xtrainplot, y_train, 'o')\n",
        "plt.plot(xtestplot, y_test, 'x')\n",
        "plt.show()"
      ],
      "metadata": {
        "id": "5AitJ_2kTG1d",
        "colab": {
          "base_uri": "https://localhost:8080/",
          "height": 265
        },
        "outputId": "a69a2a67-3754-44eb-9472-bd5d786d2dab"
      },
      "execution_count": 737,
      "outputs": [
        {
          "output_type": "display_data",
          "data": {
            "text/plain": [
              "<Figure size 432x288 with 1 Axes>"
            ],
            "image/png": "[encoded data removed]"
          },
          "metadata": {
            "needs_background": "light"
          }
        }
      ]
    }
  ]
}